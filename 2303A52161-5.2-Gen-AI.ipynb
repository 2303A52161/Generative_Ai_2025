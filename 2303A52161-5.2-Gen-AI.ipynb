{
 "cells": [
  {
   "cell_type": "markdown",
   "metadata": {},
   "source": [
    "1. (1 ponto) Design a multi-layer ANN architecture with one input, one hidden, and one output\n",
    "layer. Assume a linear activation function in the output layer and a sigmoid activation function\n",
    "in the hidden layer.\n",
    "• Write Python code for a backpropagation algorithm with gradient descent optimization to\n",
    "update weights and bias parameters of the ANN model with training data shown in Table\n",
    "1.\n",
    "• Calculate the mean square error with training and testing data shown in Table 2.\n",
    "• Write Python code that reads the input data [x1 and x2] from the user. Predict the output\n",
    "with deployed ANN model\n",
    "Tabela 1: Training Data\n",
    "x1 x2 y\n",
    "0.2 0.1 0.3441\n",
    "0.3 0.2 0.3500\n",
    "0.4 0.3 0.3558\n",
    "0.7 0.6 0.3729\n",
    "0.8 0.7 0.3785\n",
    "0.9 0.8 0.3841\n",
    "Tabela 2: Test Data\n",
    "x1 x2 y\n",
    "0.5 0.4 0.3615\n",
    "0.6 0.5 0.3672"
   ]
  },
  {
   "cell_type": "code",
   "execution_count": 2,
   "metadata": {},
   "outputs": [],
   "source": [
    "import numpy as np"
   ]
  },
  {
   "cell_type": "code",
   "execution_count": null,
   "metadata": {},
   "outputs": [
    {
     "ename": "NameError",
     "evalue": "name 'd_output' is not defined",
     "output_type": "error",
     "traceback": [
      "\u001b[0;31m---------------------------------------------------------------------------\u001b[0m",
      "\u001b[0;31mNameError\u001b[0m                                 Traceback (most recent call last)",
      "Cell \u001b[0;32mIn[8], line 32\u001b[0m\n\u001b[1;32m     29\u001b[0m final_output \u001b[38;5;241m=\u001b[39m final_input\n\u001b[1;32m     31\u001b[0m \u001b[38;5;66;03m# d_output = error \u001b[39;00m\n\u001b[0;32m---> 32\u001b[0m d_hidden \u001b[38;5;241m=\u001b[39m \u001b[43md_output\u001b[49m\u001b[38;5;241m.\u001b[39mdot(W2\u001b[38;5;241m.\u001b[39mT) \u001b[38;5;241m*\u001b[39m sigmoid_derivative(hidden_output)\n\u001b[1;32m     34\u001b[0m W2 \u001b[38;5;241m+\u001b[39m\u001b[38;5;241m=\u001b[39m hidden_output\u001b[38;5;241m.\u001b[39mT\u001b[38;5;241m.\u001b[39mdot(d_output) \u001b[38;5;241m*\u001b[39m learning_rate\n\u001b[1;32m     35\u001b[0m b2 \u001b[38;5;241m+\u001b[39m\u001b[38;5;241m=\u001b[39m np\u001b[38;5;241m.\u001b[39msum(d_output, axis\u001b[38;5;241m=\u001b[39m\u001b[38;5;241m0\u001b[39m, keepdims\u001b[38;5;241m=\u001b[39m\u001b[38;5;28;01mTrue\u001b[39;00m) \u001b[38;5;241m*\u001b[39m learning_rate\n",
      "\u001b[0;31mNameError\u001b[0m: name 'd_output' is not defined"
     ]
    }
   ],
   "source": [
    "def sigmoid(x):\n",
    "    return 1 / (1 + np.exp(-x))\n",
    "\n",
    "def sigmoid_derivative(x):\n",
    "    return x * (1 - x)\n",
    "\n",
    "X_train  = np.array([[0.2, 0.1], [0.3, 0.2], [0.4, 0.3], [0.7, 0.6], [0.8, 0.7], [0.9, 0.8]])\n",
    "X_test = np.array([[0.5, 0.4], [0.6, 0.5]])\n",
    "y_test = np.array([[0.3615], [0.3672]])\n",
    "\n",
    "np.random.seed(0)\n",
    "input_neurons = 2\n",
    "hidden_neurons = 3\n",
    "output_neurons = 1\n",
    "\n",
    "W1 = np.random.rand(input_neurons, hidden_neurons)\n",
    "b1 = np.random.rand(1, hidden_neurons)\n",
    "W2 = np.random.rand(hidden_neurons, output_neurons)\n",
    "b2 = np.random.rand(1, output_neurons)\n",
    "\n",
    "learning_rate = 0.1\n",
    "epochs = 5000\n",
    "\n",
    "for epoch in range(epochs):\n",
    "\n",
    "    hidden_input = np.dot(X_train, W1) + b1\n",
    "    hidden_output = sigmoid(hidden_input)\n",
    "    final_input = np.dot(hidden_output, W2) + b2\n",
    "    final_output = final_input\n",
    "\n",
    "    d_output = error \n",
    "    d_hidden = d_output.dot(W2.T) * sigmoid_derivative(hidden_output)\n",
    "\n",
    "    W2 += hidden_output.T.dot(d_output) * learning_rate\n",
    "    b2 += np.sum(d_output, axis=0, keepdims=True) * learning_rate\n",
    "    W1 += X_train.T.dot(d_hidden) * learning_rate\n",
    "    b1 += np.sum(d_hidden, axis=0, keepdims=True) * learning_rate\n",
    "\n",
    "def mse(y_true, y_pred):\n",
    "    return np.mean((y_true - y_pred) ** 2)\n",
    "\n",
    "train_predictions = np.dot(sigmoid(np.dot(X_train, W1) + b1), W2) + b2\n",
    "test_predictions = np.dot(sigmoid(np.dot(X_test, W1) + b1), W2) + b2\n",
    "\n",
    "print(\"Training MSE:\", mse(y_train, train_predictions))\n",
    "print(\"Testing MSE:\", mse(y_test, test_predictions))\n",
    "\n",
    "x1, x2 = map(float, input(\"Enter x1 and x2: \").split())\n",
    "user_input = np.array([[x1, x2]])\n",
    "user_output = np.dot(sigmoid(np.dot(user_input, W1) + b1), W2) + b2\n",
    "print(\"Predicted output:\", user_output[0][0])"
   ]
  }
 ],
 "metadata": {
  "kernelspec": {
   "display_name": "Python 3",
   "language": "python",
   "name": "python3"
  },
  "language_info": {
   "codemirror_mode": {
    "name": "ipython",
    "version": 3
   },
   "file_extension": ".py",
   "mimetype": "text/x-python",
   "name": "python",
   "nbconvert_exporter": "python",
   "pygments_lexer": "ipython3",
   "version": "3.9.6"
  }
 },
 "nbformat": 4,
 "nbformat_minor": 2
}
