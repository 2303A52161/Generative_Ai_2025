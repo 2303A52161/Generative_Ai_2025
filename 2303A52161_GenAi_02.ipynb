{
 "cells": [
  {
   "cell_type": "markdown",
   "metadata": {},
   "source": [
    "#1.Consider a chocolate manufacturing company that produces only two\n",
    "types of chocolate i.e. A and B. Both the chocolates require Milk.\n",
    "and Choco only.\n",
    "required:\n",
    "Each unit of A requires 1 unit of Milk and 3 units of Choco Each unit of B requires 1 unit of Milk and 2 units of Choco\n",
    "The company kitchen has a total of 5 units of Milk and 12 units of Choco. On each sale, the company makes a profit of Rs 6 per manit A\n",
    "sold and Rs 5 per unit B sold.\n",
    "Now, the company wishes to maximize its profit. How many units of A and B should it produce respectively?"
   ]
  },
  {
   "cell_type": "code",
   "execution_count": 1,
   "metadata": {},
   "outputs": [
    {
     "name": "stdout",
     "output_type": "stream",
     "text": [
      "Corner points and corresponding profits:\n",
      "A = 0, B = 5, Profit = Rs 25\n",
      "A = 0, B = 0, Profit = Rs 0\n",
      "A = 4, B = 0, Profit = Rs 24\n",
      "A = 2, B = 3, Profit = Rs 27\n",
      "\n",
      "The maximum profit is Rs 27\n"
     ]
    }
   ],
   "source": [
    "\n",
    "def corner_point_solution():\n",
    "   \n",
    "    corner_points = [\n",
    "        (0, 5),  \n",
    "        (0, 0),  \n",
    "        (4, 0),  \n",
    "        (2, 3)  \n",
    "    ]\n",
    "\n",
    "    # Objective function Z = 6A + 5B\n",
    "    def profit(A, B):\n",
    "        return 6 * A + 5 * B\n",
    "\n",
    "    # Evaluate profit at each corner point\n",
    "    profits = [(A, B, profit(A, B)) for A, B in corner_points]\n",
    "\n",
    "    # Find the maximum profit\n",
    "    max_point = max(profits, key=lambda x: x[2])\n",
    "\n",
    "    print(\"Corner points and corresponding profits:\")\n",
    "    for A, B, Z in profits:\n",
    "        print(f\"A = {A}, B = {B}, Profit = Rs {Z}\")\n",
    "\n",
    "    print(f\"\\nThe maximum profit is Rs {max_point[2]}\")\n",
    "\n",
    "if __name__ == \"__main__\":\n",
    "    corner_point_solution()\n"
   ]
  },
  {
   "cell_type": "markdown",
   "metadata": {},
   "source": [
    "#2.A farmer has recently acquired a 110 hectares piece of land. He has decided to grow Wheat and barley on that land. Due to the quality of the sun and the region's excellent climate, the entire production of Wheat and Barley can be sold. He wants to know how to plant each variety in the 110 hectares, given the costs, net profits and labor requirements according to the data shown below:"
   ]
  },
  {
   "cell_type": "code",
   "execution_count": 2,
   "metadata": {},
   "outputs": [
    {
     "name": "stdout",
     "output_type": "stream",
     "text": [
      "Optimal solution:\n",
      "Hectares of Wheat: 97.89\n",
      "Hectares of Barley: 7.37\n",
      "Maximum Profit: Rs 5778.95\n"
     ]
    }
   ],
   "source": [
    "from scipy.optimize import linprog\n",
    "\n",
    "def farmer_optimization():\n",
    "   \n",
    "    c = [-50, -120] \n",
    "    A = [\n",
    "        [7000, 2000],  \n",
    "        [10, 30],     \n",
    "        [1, 1]         \n",
    "    ]\n",
    "    b = [700000, 1200, 110]\n",
    "    x_bounds = (0, None) \n",
    "    y_bounds = (0, None)  \n",
    "    result = linprog(c, A_ub=A, b_ub=b, bounds=[x_bounds, y_bounds], method='highs')\n",
    "\n",
    "    if result.success:\n",
    "        hectares_wheat, hectares_barley = result.x\n",
    "        max_profit = -result.fun  \n",
    "        print(f\"Optimal solution:\")\n",
    "        print(f\"Hectares of Wheat: {hectares_wheat:.2f}\")\n",
    "        print(f\"Hectares of Barley: {hectares_barley:.2f}\")\n",
    "        print(f\"Maximum Profit: Rs {max_profit:.2f}\")\n",
    "    else:\n",
    "        print(\"The linear programming problem did not converge to a solution.\")\n",
    "\n",
    "if __name__ == \"__main__\":\n",
    "    farmer_optimization()\n"
   ]
  }
 ],
 "metadata": {
  "kernelspec": {
   "display_name": "Python 3",
   "language": "python",
   "name": "python3"
  },
  "language_info": {
   "codemirror_mode": {
    "name": "ipython",
    "version": 3
   },
   "file_extension": ".py",
   "mimetype": "text/x-python",
   "name": "python",
   "nbconvert_exporter": "python",
   "pygments_lexer": "ipython3",
   "version": "3.9.6"
  }
 },
 "nbformat": 4,
 "nbformat_minor": 2
}
