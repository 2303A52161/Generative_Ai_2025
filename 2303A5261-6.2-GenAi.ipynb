{
 "cells": [
  {
   "cell_type": "markdown",
   "metadata": {},
   "source": [
    "esign a multilayer ANN architecture according to the requirements shown below.\n",
    "Train, test, save (.h5) and deploy the model to predict the housing price using Keras deep\n",
    "learning library\n",
    "2. (1 ponto) Calculate training and testing error metrics\n",
    "3. (1 ponto) Build the application by loading the saved ANN model.\n",
    "Tabela 1: ANN Architecture\n",
    "Layer Neurons Activation Function\n",
    "Hidden Layer - 1 15 relu\n",
    "Hidden Layer - 2 20 relu\n",
    "Hidden Layer - 3 25 relu\n",
    "Hidden Layer - 4 20 relu\n",
    "Hidden Layer - 5 15 relu\n",
    "Tabela 2: Training Parameters\n",
    "loss function epochs batch size error metric Optimizer\n",
    "Mean Square Error 150 32 Mean absolute Error adam"
   ]
  },
  {
   "cell_type": "code",
   "execution_count": 1,
   "metadata": {},
   "outputs": [
    {
     "name": "stdout",
     "output_type": "stream",
     "text": [
      "Train MSE: 0.07887012539106981\n",
      "Test MSE: 0.08755513227934898\n",
      "Predicted Price: 0.5048676792888795\n"
     ]
    }
   ],
   "source": [
    "import numpy as np\n",
    "def relu(x):\n",
    "    return np.maximum(0, x)\n",
    "def relu_deriv(x):\n",
    "    return (x > 0).astype(float)\n",
    "\n",
    "def init_weights(layers):\n",
    "    np.random.seed(1)\n",
    "    w = [np.random.randn(layers[i], layers[i+1]) * 0.1 for i in range(len(layers)-1)]\n",
    "    b = [np.random.randn(1, layers[i+1]) * 0.1 for i in range(len(layers)-1)]\n",
    "    return w, b\n",
    "\n",
    "def forward(X, w, b):\n",
    "    a = [X]\n",
    "    for i in range(len(w)-1):\n",
    "        a.append(relu(np.dot(a[-1], w[i]) + b[i]))\n",
    "    a.append(np.dot(a[-1], w[-1]) + b[-1])\n",
    "    return a\n",
    "\n",
    "def backprop(X, y, w, b, lr):\n",
    "    a = forward(X, w, b)\n",
    "    err = y - a[-1]\n",
    "    d = [err]\n",
    "    for i in range(len(w)-1, 0, -1):\n",
    "        d.append(np.dot(d[-1], w[i].T) * relu_deriv(a[i]))\n",
    "    d.reverse()\n",
    "\n",
    "    for i in range(len(w)):\n",
    "        w[i] += np.dot(a[i].T, d[i]) * lr\n",
    "        b[i] += np.sum(d[i], axis=0, keepdims=True) * lr\n",
    "\n",
    "def train(X, y, layers, lr=0.001, epochs=150):\n",
    "    w, b = init_weights(layers)\n",
    "    for _ in range(epochs):\n",
    "        backprop(X, y, w, b, lr)\n",
    "    return w, b\n",
    "\n",
    "def predict(X, w, b):\n",
    "    return forward(X, w, b)[-1]\n",
    "\n",
    "def mse(y, y_pred):\n",
    "    return np.mean((y - y_pred) ** 2)\n",
    "\n",
    "X_train = np.random.rand(500, 10)\n",
    "y_train = np.random.rand(500, 1)\n",
    "\n",
    "X_test = np.random.rand(100, 10)\n",
    "y_test = np.random.rand(100, 1)\n",
    "\n",
    "layers = [10, 15, 20, 25, 20, 15, 1]\n",
    "w, b = train(X_train, y_train, layers, lr=0.001, epochs=150)\n",
    "\n",
    "train_mse = mse(y_train, predict(X_train, w, b))\n",
    "test_mse = mse(y_test, predict(X_test, w, b))\n",
    "\n",
    "print(\"Train MSE:\", train_mse)\n",
    "print(\"Test MSE:\", test_mse)\n",
    "\n",
    "new_data = np.random.rand(1, 10)\n",
    "predicted_price = predict(new_data, w, b)\n",
    "print(\"Predicted Price:\", predicted_price[0][0])"
   ]
  }
 ],
 "metadata": {
  "kernelspec": {
   "display_name": "Python 3",
   "language": "python",
   "name": "python3"
  },
  "language_info": {
   "codemirror_mode": {
    "name": "ipython",
    "version": 3
   },
   "file_extension": ".py",
   "mimetype": "text/x-python",
   "name": "python",
   "nbconvert_exporter": "python",
   "pygments_lexer": "ipython3",
   "version": "3.9.6"
  }
 },
 "nbformat": 4,
 "nbformat_minor": 2
}
