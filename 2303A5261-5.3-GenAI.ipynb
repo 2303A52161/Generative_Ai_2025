{
 "cells": [
  {
   "cell_type": "markdown",
   "metadata": {},
   "source": [
    "Design a multi-layer ANN architecture with one input, one hidden, and one output\n",
    "layer. Assume a linear activation function in the output layer and a sigmoid activation function\n",
    "in the hidden layer.\n",
    "• Write Python code for a backpropagation algorithm with gradient descent optimization to\n",
    "update weights and bias parameters of the ANN model with training data shown in Table\n",
    "1.\n",
    "• Calculate the mean square error with training and testing data shown in Table 2.\n",
    "• Write Python code that reads the input data [x1 and x2] from the user. Predict the output\n",
    "with deployed ANN model\n",
    "Tabela 1: Training Data\n",
    "x1 x2 y\n",
    "1 2 0.4140\n",
    "2 3 0.4611\n",
    "5 6 0.5501\n",
    "6 7 0.5656\n",
    "7 8 0.5765\n",
    "8 9 0.5840\n",
    "Tabela 2: Test Data\n",
    "x1 x2 y\n",
    "3 4 0.4992\n",
    "4 5 0.5285"
   ]
  },
  {
   "cell_type": "code",
   "execution_count": 2,
   "metadata": {},
   "outputs": [
    {
     "name": "stdout",
     "output_type": "stream",
     "text": [
      "8.787942876749491e-06\n",
      "9.624128530964148e-06\n",
      "0.500124119474034\n"
     ]
    }
   ],
   "source": [
    "import numpy as np\n",
    "def sigmoid(x):\n",
    "    return 1 / (1 + np.exp(-x))\n",
    "\n",
    "def sigmoid_derivative(x):\n",
    "    return x * (1 - x)\n",
    "\n",
    "def mse(y_true, y_pred):\n",
    "    return np.mean((y_true - y_pred) ** 2)\n",
    "\n",
    "data = np.array([[1, 2, 0.4140], [2, 3, 0.4611], [5, 6, 0.5501], [6, 7, 0.5656], [7, 8, 0.5765], [8, 9, 0.5840]])\n",
    "X_train, y_train = data[:, :2], data[:, 2:]\n",
    "test_data = np.array([[3, 4, 0.4992], [4, 5, 0.5285]])\n",
    "X_test, y_test = test_data[:, :2], test_data[:, 2:]\n",
    "\n",
    "np.random.seed(0)\n",
    "W1 = np.random.rand(2, 3)\n",
    "b1 = np.random.rand(1, 3)\n",
    "W2 = np.random.rand(3, 1)\n",
    "b2 = np.random.rand(1, 1)\n",
    "\n",
    "learning_rate = 0.1\n",
    "epochs = 5000\n",
    "\n",
    "for _ in range(epochs):\n",
    "    hidden_input = np.dot(X_train, W1) + b1\n",
    "    hidden_output = sigmoid(hidden_input)\n",
    "    final_input = np.dot(hidden_output, W2) + b2\n",
    "    final_output = final_input\n",
    "    error = y_train - final_output\n",
    "    d_output = error\n",
    "    d_hidden = np.dot(d_output, W2.T) * sigmoid_derivative(hidden_output)\n",
    "    W2 += np.dot(hidden_output.T, d_output) * learning_rate\n",
    "    b2 += np.sum(d_output, axis=0, keepdims=True) * learning_rate\n",
    "    W1 += np.dot(X_train.T, d_hidden) * learning_rate\n",
    "    b1 += np.sum(d_hidden, axis=0, keepdims=True) * learning_rate\n",
    "\n",
    "train_predictions = np.dot(sigmoid(np.dot(X_train, W1) + b1), W2) + b2\n",
    "test_predictions = np.dot(sigmoid(np.dot(X_test, W1) + b1), W2) + b2\n",
    "print(mse(y_train, train_predictions))\n",
    "print(mse(y_test, test_predictions))\n",
    "\n",
    "x1, x2 = map(float, input().split())\n",
    "user_input = np.array([[x1, x2]])\n",
    "user_output = np.dot(sigmoid(np.dot(user_input, W1) + b1), W2) + b2\n",
    "print(user_output[0][0])"
   ]
  }
 ],
 "metadata": {
  "kernelspec": {
   "display_name": "Python 3",
   "language": "python",
   "name": "python3"
  },
  "language_info": {
   "codemirror_mode": {
    "name": "ipython",
    "version": 3
   },
   "file_extension": ".py",
   "mimetype": "text/x-python",
   "name": "python",
   "nbconvert_exporter": "python",
   "pygments_lexer": "ipython3",
   "version": "3.9.6"
  }
 },
 "nbformat": 4,
 "nbformat_minor": 2
}
